{
 "cells": [
  {
   "cell_type": "code",
   "execution_count": 1,
   "id": "5dfa0c5f-c628-4173-a107-8b1c2424fb23",
   "metadata": {},
   "outputs": [],
   "source": [
    "import torch\n",
    "import torch.nn as nn"
   ]
  },
  {
   "cell_type": "code",
   "execution_count": 29,
   "id": "8f945783-e3aa-4a47-9539-e0a4aaf26b1f",
   "metadata": {},
   "outputs": [
    {
     "data": {
      "text/plain": [
       "tensor([[ 200., 2000.],\n",
       "        [ 200., 2000.],\n",
       "        [ 200., 2000.]])"
      ]
     },
     "execution_count": 29,
     "metadata": {},
     "output_type": "execute_result"
    }
   ],
   "source": [
    "inp = torch.tensor([200, 2000], dtype=torch.float)\n",
    "inp.requires_grad=True\n",
    "lm = nn.Linear(2, 3)\n",
    "\n",
    "loss = torch.sum(lm(inp))\n",
    "loss.backward()\n",
    "\n",
    "lm.weight.grad"
   ]
  },
  {
   "cell_type": "code",
   "execution_count": 30,
   "id": "4becf79c-4891-4e72-ba5e-6e6bb45227a2",
   "metadata": {},
   "outputs": [
    {
     "data": {
      "text/plain": [
       "tensor([[ 400., 4000.],\n",
       "        [ 400., 4000.],\n",
       "        [ 400., 4000.]])"
      ]
     },
     "execution_count": 30,
     "metadata": {},
     "output_type": "execute_result"
    }
   ],
   "source": [
    "loss = torch.sum(lm(inp))\n",
    "loss.backward()\n",
    "lm.weight.grad"
   ]
  },
  {
   "cell_type": "code",
   "execution_count": null,
   "id": "b4e88913-a621-4745-bb70-0dc30cf5f5cd",
   "metadata": {},
   "outputs": [],
   "source": []
  }
 ],
 "metadata": {
  "kernelspec": {
   "display_name": "Python 3 (ipykernel)",
   "language": "python",
   "name": "python3"
  },
  "language_info": {
   "codemirror_mode": {
    "name": "ipython",
    "version": 3
   },
   "file_extension": ".py",
   "mimetype": "text/x-python",
   "name": "python",
   "nbconvert_exporter": "python",
   "pygments_lexer": "ipython3",
   "version": "3.9.6"
  }
 },
 "nbformat": 4,
 "nbformat_minor": 5
}
