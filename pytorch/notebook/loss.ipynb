{
 "cells": [
  {
   "cell_type": "code",
   "execution_count": 117,
   "id": "b34ba675-7a89-4426-b3f0-b68f202c9de1",
   "metadata": {},
   "outputs": [
    {
     "name": "stdout",
     "output_type": "stream",
     "text": [
      "input:  tensor([[1.]], requires_grad=True)\n",
      "target:  tensor([[-1.]])\n",
      "output:  tensor(0., grad_fn=<MeanBackward0>)\n"
     ]
    }
   ],
   "source": [
    "import torch\n",
    "import torch.nn as nn\n",
    "\n",
    "input = torch.tensor([[1.0 ]], requires_grad=True)\n",
    "target = torch.tensor([[-1.0]])\n",
    "\n",
    "hinge_loss = nn.HingeEmbeddingLoss()\n",
    "output = hinge_loss(input, target)\n",
    "output.backward()\n",
    "\n",
    "print(\"input: \", input)\n",
    "print(\"target: \", target)\n",
    "print(\"output: \", output)"
   ]
  },
  {
   "cell_type": "code",
   "execution_count": null,
   "id": "a5ba9626-00b2-4e1e-bb7b-978fb37d63d9",
   "metadata": {},
   "outputs": [],
   "source": []
  },
  {
   "cell_type": "code",
   "execution_count": null,
   "id": "e3393d43-d046-43b8-a37f-5b0df99dd49c",
   "metadata": {},
   "outputs": [],
   "source": []
  }
 ],
 "metadata": {
  "kernelspec": {
   "display_name": "Python 3 (ipykernel)",
   "language": "python",
   "name": "python3"
  },
  "language_info": {
   "codemirror_mode": {
    "name": "ipython",
    "version": 3
   },
   "file_extension": ".py",
   "mimetype": "text/x-python",
   "name": "python",
   "nbconvert_exporter": "python",
   "pygments_lexer": "ipython3",
   "version": "3.9.6"
  }
 },
 "nbformat": 4,
 "nbformat_minor": 5
}
